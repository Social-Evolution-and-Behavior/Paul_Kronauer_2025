{
 "cells": [
  {
   "cell_type": "markdown",
   "metadata": {},
   "source": [
    "##### **Code for calculating the P1, P2, and Total proportion of time the ant interacts with the larva. The duration of the P1 phase is also recorded.**\n",
    "##### This script requires the files 'timedata_C*.csv', 'TransitionPoints.csv' and 'stats_corrected.csv' resulting from Code_1, Code_3, and manual correction of 'larva_detect_frame' if required.\n",
    "\n",
    "##### The output of this code are the measures plotted and used for statistical analyses of the brood care behavior assay in various experiments in Paul et al. 2025."
   ]
  },
  {
   "cell_type": "code",
   "execution_count": null,
   "metadata": {},
   "outputs": [],
   "source": [
    "import pandas as pd\n",
    "import numpy as np\n",
    "import matplotlib.pyplot as plt\n",
    "import glob\n",
    "from natsort import natsorted\n",
    "\n",
    "#define path to the data files\n",
    "path = '/Users/Alex/Desktop/Broodcare_assay_Code_&_Sample_data/antrax/analysis/'\n",
    "#define path to save the results\n",
    "save_path = '/Users/Alex/Desktop/Broodcare_assay_Code_&_Sample_data/antrax/analysis/'\n",
    "\n",
    "#load the Transition Points\n",
    "transpoints = np.loadtxt(path + 'TransitionPoints.csv', delimiter=',', skiprows=1, usecols = 1)\n",
    "\n",
    "#load the True Larva Detection frames for each ant from the 'stats_corrected.csv' file\n",
    "trueLarvaDet = np.loadtxt(path + 'stats_corrected.csv', delimiter=',', skiprows=1, usecols = 7)\n",
    "\n",
    "#load the timedata_C*.csv files and then sort them into natural order\n",
    "fnames = glob.glob(path + 'timedata_C*.csv')\n",
    "sfnames = natsorted(fnames)\n",
    "\n",
    "#initialize numpy arrays to store the results\n",
    "P1 = np.array([])\n",
    "P2 = np.array([])\n",
    "Total = np.array([])\n",
    "\n",
    "#creates an empty array to store the Ant id\n",
    "ant_id = np.array([])\n",
    "\n",
    "i=0\n",
    "for x in sfnames:\n",
    "    file = sfnames[i]\n",
    "\n",
    "    #set the ant_id\n",
    "    ant_id = np.append(ant_id, 'C'+str(i+1))\n",
    "\n",
    "    #load the 'interacting' data from the current timedata_C*.csv file\n",
    "    interacting = np.loadtxt(file, delimiter=',', skiprows=1, usecols = (5))\n",
    "\n",
    "    # Calculate the proportion of time ant interacts with larva in phase P1 (P1 proportion time with larva)\n",
    "    # Note: transpoints is recorded in TransitionPoints.csv as if trueLarvaDet is frame 0, so have to add tureLarvaDet to transpoints to get the correct frame number\n",
    "    P1_prop_twl = np.average(interacting[int(trueLarvaDet[i]):(int(trueLarvaDet[i])+int(transpoints[i]))])\n",
    "    P1 = np.append(P1, P1_prop_twl)\n",
    "    \n",
    "    #Calculate the proportion of time ant interacts with larva in phase P2 (P2 proportion time with larva)\n",
    "    P2_prop_twl = np.average(interacting[(int(trueLarvaDet[i])+int(transpoints[i])):])\n",
    "    P2 = np.append(P2, P2_prop_twl)\n",
    "    \n",
    "    #Calculate the total proportion of time ant interacts with larva from the moment of larva detection to the end of the assay (Total proportion time with larva)\n",
    "    Total_prop_twl = np.average(interacting[int(trueLarvaDet[i]):])\n",
    "    Total = np.append(Total, Total_prop_twl)\n",
    "    \n",
    "    i+=1\n",
    "\n",
    "#create a dataframe of the ant_id, transpoints (converted to hours), P1, P2, and Total\n",
    "df = pd.DataFrame\n",
    "df = pd.DataFrame({'ant_id': ant_id, 'P1_duration (hours)': transpoints/18000, 'P1_prop_twl': P1, 'P2_prop_twl': P2, 'Total_prop_twl': Total})\n",
    "\n",
    "#save the results to a csv file\n",
    "df.to_csv(save_path + 'Results_P1dur_P1_P2_Total.csv', index=False)\n"
   ]
  },
  {
   "cell_type": "code",
   "execution_count": null,
   "metadata": {},
   "outputs": [],
   "source": []
  }
 ],
 "metadata": {
  "kernelspec": {
   "display_name": "antbehavior",
   "language": "python",
   "name": "python3"
  },
  "language_info": {
   "codemirror_mode": {
    "name": "ipython",
    "version": 3
   },
   "file_extension": ".py",
   "mimetype": "text/x-python",
   "name": "python",
   "nbconvert_exporter": "python",
   "pygments_lexer": "ipython3",
   "version": "3.11.3"
  }
 },
 "nbformat": 4,
 "nbformat_minor": 2
}
